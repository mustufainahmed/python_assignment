{
 "cells": [
  {
   "cell_type": "code",
   "execution_count": 1,
   "metadata": {},
   "outputs": [
    {
     "name": "stdout",
     "output_type": "stream",
     "text": [
      "Enter Your First Value 8\n",
      "Enter You Second Value 6\n",
      "Enter Your Operator +\n",
      "14 Answer\n"
     ]
    }
   ],
   "source": [
    "#Q NO 1 Make a simple calculator using python. \n",
    "a = int(input(\"Enter Your First Value \"))\n",
    "b = int(input(\"Enter You Second Value \"))\n",
    "operator = input(\"Enter Your Operator \")\n",
    "\n",
    "if operator == \"+\":\n",
    " val = a + b\n",
    " print(val,\"Answer\")\n",
    " \n",
    "elif operator == \"-\":\n",
    " val = a - b\n",
    " print(val,\"Answer\")\n",
    " \n",
    "elif operator == \"*\":\n",
    " val = a * b\n",
    " print(val,\"Answer\")\n",
    " \n",
    "elif operator == \"/\":\n",
    " val = a / b\n",
    " print(val,\"Answer\")\n",
    " \n",
    "elif operator == \"**\":\n",
    " val = a ** b\n",
    " print(val,\"Answer\")\n",
    "\n",
    "else:\n",
    "  print(\"Enter Correct operator\")"
   ]
  },
  {
   "cell_type": "code",
   "execution_count": 2,
   "metadata": {},
   "outputs": [
    {
     "name": "stdout",
     "output_type": "stream",
     "text": [
      "['1', '2', '3', '4']\n",
      "['1', '2', '3', '4']\n",
      "['1', '2', '3', '4']\n",
      "['1', '2', '3', '4']\n",
      "['1', '2', '3', '4']\n",
      "['1', '2', '3', '4']\n"
     ]
    }
   ],
   "source": [
    "#Q NO 2 write a program to check if there is any numeric value in list using for loop.\n",
    "mylist=['1','Anwar','2','khan','3','4']\n",
    "for item in mylist:\n",
    "    mynewlist =  [s for s in mylist if s.isdigit()]\n",
    "    print(mynewlist)"
   ]
  },
  {
   "cell_type": "code",
   "execution_count": 3,
   "metadata": {},
   "outputs": [
    {
     "name": "stdout",
     "output_type": "stream",
     "text": [
      "{'Employee_ID': '0001 ', 'Full Name': 'ANWAR KHAN', 'Father Name': 'JAWED KHAN', 'Salary': '400000'}\n"
     ]
    }
   ],
   "source": [
    "#Q NO 3 write a pyhton script to add a key to a dictionary.\n",
    "\n",
    "Employee = {\"Employee_ID\": \"0001 \",\n",
    "            \"Full Name\": \"ANWAR KHAN\",\n",
    "            \"Father Name\": \"JAWED KHAN\",\n",
    "           }\n",
    "Employee[\"Salary\"] = \"400000\"\n",
    "print(Employee)"
   ]
  },
  {
   "cell_type": "code",
   "execution_count": 5,
   "metadata": {},
   "outputs": [
    {
     "name": "stdout",
     "output_type": "stream",
     "text": [
      "40\n"
     ]
    }
   ],
   "source": [
    "#Q NO 4 write a python program to sum all numeric items in a dictionary.\n",
    "Data = {'val1':15,'val2':15,'val3':10}\n",
    "print(sum(Data.values()))"
   ]
  },
  {
   "cell_type": "code",
   "execution_count": 7,
   "metadata": {},
   "outputs": [
    {
     "name": "stdout",
     "output_type": "stream",
     "text": [
      "[1, 15, 99]\n"
     ]
    }
   ],
   "source": [
    "# Q NO 5 write a pyton program to identify duplicate values from list.\n",
    "\n",
    "Data_check_dup = [ 1, 30, 8, 7, 3, 1, 15, 99, 45, 5, 15, 99]\n",
    "dupItems = []\n",
    "uniqItems = {}\n",
    "for x in Data_check_dup:\n",
    "   if x not in uniqItems:\n",
    "      uniqItems[x] = 1\n",
    "   else:\n",
    "      if uniqItems[x] == 1:\n",
    "         dupItems.append(x)\n",
    "      uniqItems[x] += 1\n",
    "print(dupItems)"
   ]
  },
  {
   "cell_type": "code",
   "execution_count": 9,
   "metadata": {},
   "outputs": [
    {
     "name": "stdout",
     "output_type": "stream",
     "text": [
      "Key is not present in the dictionary\n"
     ]
    }
   ],
   "source": [
    "# Q no 6 write a pyhton script to check if a given key already exits in a dictionary.\n",
    "d = {1: 10, 2: 20, 3: 30, 4: 40, 5: 50, 6: 60}\n",
    "def is_key_present(x):\n",
    "  if x in d:\n",
    "      print('Key is present in the dictionary')\n",
    "  else:\n",
    "      print('Key is not present in the dictionary')\n",
    "is_key_present(7)"
   ]
  },
  {
   "cell_type": "code",
   "execution_count": null,
   "metadata": {},
   "outputs": [],
   "source": []
  }
 ],
 "metadata": {
  "kernelspec": {
   "display_name": "Python 3",
   "language": "python",
   "name": "python3"
  },
  "language_info": {
   "codemirror_mode": {
    "name": "ipython",
    "version": 3
   },
   "file_extension": ".py",
   "mimetype": "text/x-python",
   "name": "python",
   "nbconvert_exporter": "python",
   "pygments_lexer": "ipython3",
   "version": "3.7.4"
  }
 },
 "nbformat": 4,
 "nbformat_minor": 2
}

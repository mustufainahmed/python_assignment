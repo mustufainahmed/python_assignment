{
 "cells": [
  {
   "cell_type": "code",
   "execution_count": 1,
   "metadata": {},
   "outputs": [
    {
     "name": "stdout",
     "output_type": "stream",
     "text": [
      "enter your percentage %:72\n",
      "Your Grade is A\n"
     ]
    }
   ],
   "source": [
    "# assignment_2:\n",
    "# Q NO 1:\n",
    "\n",
    "per = int(input(\"enter your percentage %:\"));\n",
    "if per >=80:\n",
    "    print(\"Your Grade is A+\")\n",
    "elif per >= 70 and per <79 :\n",
    "    print(\"Your Grade is A\")\n",
    "elif per >= 60 and per <69 :\n",
    "    print(\"Your Grade is B\")\n",
    "elif per >= 50 and per <59 :\n",
    "    print(\"Your Grade is C\")   \n",
    "elif per >= 40 and per <49 :\n",
    "    print(\"Your Grade is D\")\n",
    "elif per >= 33 and per <39 :\n",
    "    print(\"Your Grade is E\")  \n",
    "elif per >= 1 and per <32:\n",
    "    print(\"Your are Failed\")    \n",
    "else:\n",
    "    print(\"You have given inappropiate %\")"
   ]
  },
  {
   "cell_type": "code",
   "execution_count": 6,
   "metadata": {},
   "outputs": [
    {
     "name": "stdout",
     "output_type": "stream",
     "text": [
      "nmber: 11\n",
      "nmber is odd\n"
     ]
    }
   ],
   "source": [
    "# qNO 2\n",
    "num = int(input(\"nmber: \"))\n",
    "if num % 2:\n",
    "    print(\"nmber is odd\")\n",
    "else:\n",
    "    print(\"number is even\")"
   ]
  },
  {
   "cell_type": "code",
   "execution_count": 8,
   "metadata": {},
   "outputs": [
    {
     "name": "stdout",
     "output_type": "stream",
     "text": [
      "The list is : [1, 4, 5, 7, 8]\n",
      "Length of list using naive method is : 5\n"
     ]
    }
   ],
   "source": [
    "# qno 3\n",
    "test_list = [ 1, 4, 5, 7, 8 ]\n",
    "print (\"The list is : \" + str(test_list)) \n",
    "counter = 0\n",
    "for i in test_list: \n",
    " counter = counter + 1\n",
    "print (\"Length of list using naive method is : \" + str(counter))"
   ]
  },
  {
   "cell_type": "code",
   "execution_count": 14,
   "metadata": {},
   "outputs": [
    {
     "name": "stdout",
     "output_type": "stream",
     "text": [
      "Sum of all elements in given list:  70\n"
     ]
    }
   ],
   "source": [
    "# qno 4\n",
    "total = 0\n",
    "list1 = [10, 5, 17, 18, 20] \n",
    "for ele in range(0, len(list1)):\n",
    "    total = total + list1[ele] \n",
    "print(\"Sum of all elements in given list: \", total)"
   ]
  },
  {
   "cell_type": "code",
   "execution_count": 16,
   "metadata": {},
   "outputs": [
    {
     "name": "stdout",
     "output_type": "stream",
     "text": [
      "Largest element is: 199\n"
     ]
    }
   ],
   "source": [
    "# qno 5\n",
    "list1 = [10, 20, 4, 45, 199] \n",
    "list1.sort()\n",
    "print(\"Largest element is:\", list1[-1]) "
   ]
  },
  {
   "cell_type": "code",
   "execution_count": 17,
   "metadata": {},
   "outputs": [
    {
     "name": "stdout",
     "output_type": "stream",
     "text": [
      "1\n",
      "1\n",
      "2\n",
      "3\n",
      "[1, 1, 2, 3]\n"
     ]
    }
   ],
   "source": [
    "# qno 6\n",
    "a = [1, 1, 2, 3, 5, 8, 13, 21, 34, 55, 89]\n",
    "\n",
    "for i in a:\n",
    "\n",
    "    if i < 5:\n",
    "\n",
    "        print(i)\n",
    "\n",
    "x=[i for i in a if i <5]\n",
    "print(x)"
   ]
  },
  {
   "cell_type": "code",
   "execution_count": null,
   "metadata": {},
   "outputs": [],
   "source": []
  }
 ],
 "metadata": {
  "kernelspec": {
   "display_name": "Python 3",
   "language": "python",
   "name": "python3"
  },
  "language_info": {
   "codemirror_mode": {
    "name": "ipython",
    "version": 3
   },
   "file_extension": ".py",
   "mimetype": "text/x-python",
   "name": "python",
   "nbconvert_exporter": "python",
   "pygments_lexer": "ipython3",
   "version": "3.7.4"
  }
 },
 "nbformat": 4,
 "nbformat_minor": 2
}
